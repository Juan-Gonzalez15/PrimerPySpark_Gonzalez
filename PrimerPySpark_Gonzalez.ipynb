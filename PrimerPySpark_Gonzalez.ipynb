{
 "cells": [
  {
   "cell_type": "markdown",
   "metadata": {
    "application/vnd.databricks.v1+cell": {
     "cellMetadata": {
      "byteLimit": 2048000,
      "rowLimit": 10000
     },
     "inputWidgets": {},
     "nuid": "4d200fee-e2ec-4aa8-8c3e-5b3c89b3f7af",
     "showTitle": false,
     "title": ""
    }
   },
   "source": [
    "\n",
    "PONTIFICIA UNIVERSIDAD JAVERIANA\n",
    "\n",
    "Autor: J. Gonzalez.\n",
    "\n",
    "Fecha: 22 de julio 2024\n",
    "\n",
    "Tema: Inrtoducccion al procesamiento de altos volumenes de datos\n"
   ]
  },
  {
   "cell_type": "code",
   "execution_count": 0,
   "metadata": {
    "application/vnd.databricks.v1+cell": {
     "cellMetadata": {
      "byteLimit": 2048000,
      "rowLimit": 10000
     },
     "inputWidgets": {},
     "nuid": "d18e00ee-6f9a-4af6-8782-472679251c1c",
     "showTitle": false,
     "title": ""
    }
   },
   "outputs": [],
   "source": [
    "##Importar las bibliotecas necesarias.\n",
    "import pyspark\n",
    "from pyspark.context import SparkContext\n",
    "from pyspark.sql.session import SparkSession\n",
    "from pyspark.sql.functions import col\n",
    "from pyspark.sql.types import IntegerType, FloatType"
   ]
  },
  {
   "cell_type": "code",
   "execution_count": 0,
   "metadata": {
    "application/vnd.databricks.v1+cell": {
     "cellMetadata": {
      "byteLimit": 2048000,
      "rowLimit": 10000
     },
     "inputWidgets": {},
     "nuid": "db37e341-7b6a-4c37-b883-63f61cf7e2e4",
     "showTitle": false,
     "title": ""
    }
   },
   "outputs": [
    {
     "output_type": "display_data",
     "data": {
      "text/html": [
       "<style scoped>\n",
       "  .table-result-container {\n",
       "    max-height: 300px;\n",
       "    overflow: auto;\n",
       "  }\n",
       "  table, th, td {\n",
       "    border: 1px solid black;\n",
       "    border-collapse: collapse;\n",
       "  }\n",
       "  th, td {\n",
       "    padding: 5px;\n",
       "  }\n",
       "  th {\n",
       "    text-align: left;\n",
       "  }\n",
       "</style><div class='table-result-container'><table class='table-result'><thead style='background-color: white'><tr><th>path</th><th>name</th><th>size</th><th>modificationTime</th></tr></thead><tbody><tr><td>dbfs:/databricks-datasets/samples/adam/</td><td>adam/</td><td>0</td><td>0</td></tr><tr><td>dbfs:/databricks-datasets/samples/data/</td><td>data/</td><td>0</td><td>0</td></tr><tr><td>dbfs:/databricks-datasets/samples/docs/</td><td>docs/</td><td>0</td><td>0</td></tr><tr><td>dbfs:/databricks-datasets/samples/lending_club/</td><td>lending_club/</td><td>0</td><td>0</td></tr><tr><td>dbfs:/databricks-datasets/samples/newsgroups/</td><td>newsgroups/</td><td>0</td><td>0</td></tr><tr><td>dbfs:/databricks-datasets/samples/people/</td><td>people/</td><td>0</td><td>0</td></tr><tr><td>dbfs:/databricks-datasets/samples/population-vs-price/</td><td>population-vs-price/</td><td>0</td><td>0</td></tr></tbody></table></div>"
      ]
     },
     "metadata": {
      "application/vnd.databricks.v1+output": {
       "addedWidgets": {},
       "aggData": [],
       "aggError": "",
       "aggOverflow": false,
       "aggSchema": [],
       "aggSeriesLimitReached": false,
       "aggType": "",
       "arguments": {},
       "columnCustomDisplayInfos": {},
       "data": [
        [
         "dbfs:/databricks-datasets/samples/adam/",
         "adam/",
         0,
         0
        ],
        [
         "dbfs:/databricks-datasets/samples/data/",
         "data/",
         0,
         0
        ],
        [
         "dbfs:/databricks-datasets/samples/docs/",
         "docs/",
         0,
         0
        ],
        [
         "dbfs:/databricks-datasets/samples/lending_club/",
         "lending_club/",
         0,
         0
        ],
        [
         "dbfs:/databricks-datasets/samples/newsgroups/",
         "newsgroups/",
         0,
         0
        ],
        [
         "dbfs:/databricks-datasets/samples/people/",
         "people/",
         0,
         0
        ],
        [
         "dbfs:/databricks-datasets/samples/population-vs-price/",
         "population-vs-price/",
         0,
         0
        ]
       ],
       "datasetInfos": [],
       "dbfsResultPath": null,
       "isJsonSchema": true,
       "metadata": {},
       "overflow": false,
       "plotOptions": {
        "customPlotOptions": {},
        "displayType": "table",
        "pivotAggregation": null,
        "pivotColumns": null,
        "xColumns": null,
        "yColumns": null
       },
       "removedWidgets": [],
       "schema": [
        {
         "metadata": "{}",
         "name": "path",
         "type": "\"string\""
        },
        {
         "metadata": "{}",
         "name": "name",
         "type": "\"string\""
        },
        {
         "metadata": "{}",
         "name": "size",
         "type": "\"long\""
        },
        {
         "metadata": "{}",
         "name": "modificationTime",
         "type": "\"long\""
        }
       ],
       "type": "table"
      }
     },
     "output_type": "display_data"
    }
   ],
   "source": [
    "##DataBricks es un entorno que proporciona cómputo y almacenamiento.\n",
    "##Community Edition permite acceder a parte de éstos recursos de forma gratuita.\n",
    "\n",
    "## Se observa los datasets (conjunto de datos) disponibles en DataBricks.\n",
    "\n",
    "display(dbutils.fs.ls(\"databricks-datasets/samples\"))"
   ]
  },
  {
   "cell_type": "code",
   "execution_count": 0,
   "metadata": {
    "application/vnd.databricks.v1+cell": {
     "cellMetadata": {
      "byteLimit": 2048000,
      "rowLimit": 10000
     },
     "inputWidgets": {},
     "nuid": "3c313f85-63c4-4902-97fa-55d694ab70c8",
     "showTitle": false,
     "title": ""
    }
   },
   "outputs": [
    {
     "output_type": "stream",
     "name": "stdout",
     "output_type": "stream",
     "text": [
      "+---------+----------+-------+----------+------------------------+-----------------------+\n|2014 rank|      City|  State|State Code|2014 Population estimate|2015 median sales price|\n+---------+----------+-------+----------+------------------------+-----------------------+\n|      101|Birmingham|Alabama|        AL|                  212247|                  162.9|\n|      125|Huntsville|Alabama|        AL|                  188226|                  157.7|\n|      122|    Mobile|Alabama|        AL|                  194675|                  122.5|\n|      114|Montgomery|Alabama|        AL|                  200481|                    129|\n+---------+----------+-------+----------+------------------------+-----------------------+\nonly showing top 4 rows\n\n"
     ]
    }
   ],
   "source": [
    "## como ejemplo se carga un fichero\n",
    "## la carga se instancia en un objeto DATAFRAME de Spark\n",
    "dfejemplo00 = spark.read.csv(\n",
    "    \"/databricks-datasets/samples/population-vs-price/data_geo.csv\", header=True\n",
    ")\n",
    "## se presenta el dataframe\n",
    "dfejemplo00.show(4)"
   ]
  },
  {
   "cell_type": "code",
   "execution_count": 0,
   "metadata": {
    "application/vnd.databricks.v1+cell": {
     "cellMetadata": {
      "byteLimit": 2048000,
      "rowLimit": 10000
     },
     "inputWidgets": {},
     "nuid": "62ada12e-14d2-4857-a987-210097fbbaaa",
     "showTitle": false,
     "title": ""
    }
   },
   "outputs": [
    {
     "output_type": "execute_result",
     "data": {
      "text/plain": [
       "['2014 rank',\n",
       " 'City',\n",
       " 'State',\n",
       " 'State Code',\n",
       " '2014 Population estimate',\n",
       " '2015 median sales price']"
      ]
     },
     "execution_count": 5,
     "metadata": {},
     "output_type": "execute_result"
    }
   ],
   "source": [
    "## se imprimen los nombres de ls columnas.\n",
    "\n",
    "dfejemplo00.columns"
   ]
  },
  {
   "cell_type": "code",
   "execution_count": 0,
   "metadata": {
    "application/vnd.databricks.v1+cell": {
     "cellMetadata": {
      "byteLimit": 2048000,
      "rowLimit": 10000
     },
     "inputWidgets": {},
     "nuid": "32d9b164-b8c6-4208-8b8d-039f9c7117ed",
     "showTitle": false,
     "title": ""
    }
   },
   "outputs": [
    {
     "output_type": "stream",
     "name": "stdout",
     "output_type": "stream",
     "text": [
      "+-------+-----------------+-------+---------+----------+------------------------+-----------------------+\n|summary|        2014 rank|   City|    State|State Code|2014 Population estimate|2015 median sales price|\n+-------+-----------------+-------+---------+----------+------------------------+-----------------------+\n|  count|              294|    294|      294|       294|                     293|                    109|\n|   mean|            147.5|   NULL|     NULL|      NULL|      307284.89761092153|      211.2660550458717|\n| stddev|85.01470461043782|   NULL|     NULL|      NULL|       603487.8272175139|       134.017245449277|\n|    min|                1|Abilene|  Alabama|        AK|                  101408|                  105.2|\n|    max|               99|Yonkers|Wisconsin|        WI|                  912791|                   95.4|\n+-------+-----------------+-------+---------+----------+------------------------+-----------------------+\n\n"
     ]
    }
   ],
   "source": [
    "## se presenta un resumen estadístico\n",
    "\n",
    "dfejemplo00.describe().show()"
   ]
  },
  {
   "cell_type": "code",
   "execution_count": 0,
   "metadata": {
    "application/vnd.databricks.v1+cell": {
     "cellMetadata": {
      "byteLimit": 2048000,
      "rowLimit": 10000
     },
     "inputWidgets": {},
     "nuid": "ca58d2ed-57f8-424a-9277-f0a935076752",
     "showTitle": false,
     "title": ""
    }
   },
   "outputs": [
    {
     "output_type": "stream",
     "name": "stdout",
     "output_type": "stream",
     "text": [
      "root\n |-- 2014 rank: string (nullable = true)\n |-- City: string (nullable = true)\n |-- State: string (nullable = true)\n |-- State Code: string (nullable = true)\n |-- 2014 Population estimate: string (nullable = true)\n |-- 2015 median sales price: string (nullable = true)\n\n"
     ]
    }
   ],
   "source": [
    "## comanda para presentar el esquema\n",
    "\n",
    "dfejemplo00.printSchema()"
   ]
  },
  {
   "cell_type": "code",
   "execution_count": 0,
   "metadata": {
    "application/vnd.databricks.v1+cell": {
     "cellMetadata": {
      "byteLimit": 2048000,
      "rowLimit": 10000
     },
     "inputWidgets": {},
     "nuid": "302bbeaf-cd96-4c0c-b39e-0b3c5dd35fb4",
     "showTitle": false,
     "title": ""
    }
   },
   "outputs": [],
   "source": [
    "## se recomienda cambiar los nombres de las columnas\n",
    "\n",
    "dfejemplo01 = dfejemplo00.withColumnRenamed(\"2014 rank\", \"2014_rank\")\\\n",
    "    .withColumnRenamed('State Code','State_Code')\\\n",
    "    .withColumnRenamed('2014 Population estimate','2014_Population_estimate')\\\n",
    "    .withColumnRenamed('2015 median sales price','2015_median_sales_price')\n",
    "\n",
    "display(dfejemplo01)"
   ]
  },
  {
   "cell_type": "markdown",
   "metadata": {
    "application/vnd.databricks.v1+cell": {
     "cellMetadata": {
      "byteLimit": 2048000,
      "rowLimit": 10000
     },
     "inputWidgets": {},
     "nuid": "1a7b7250-f747-4aa6-a894-47696fda2b6b",
     "showTitle": false,
     "title": ""
    }
   },
   "source": [
    "## Observaciones con los tipos de datos:\n",
    "  - Se observa que todos los datos son del tipo STRIN, incluso aquellos que deben ser del tipo numérico\n",
    "  - Se debe ajustar los datos a sus tipos de datos correspondientes\n",
    "  - Para lo anterior se usará el método **.withColumn()** (cambio de tipo manual)\n",
    "    \n"
   ]
  },
  {
   "cell_type": "code",
   "execution_count": 0,
   "metadata": {
    "application/vnd.databricks.v1+cell": {
     "cellMetadata": {
      "byteLimit": 2048000,
      "rowLimit": 10000
     },
     "inputWidgets": {},
     "nuid": "beb2ec43-48d1-4dc8-83df-a538c444b0e5",
     "showTitle": false,
     "title": ""
    }
   },
   "outputs": [
    {
     "output_type": "stream",
     "name": "stdout",
     "output_type": "stream",
     "text": [
      "root\n |-- 2014_rank: integer (nullable = true)\n |-- City: string (nullable = true)\n |-- State: string (nullable = true)\n |-- State_Code: string (nullable = true)\n |-- 2014_Population_estimate: integer (nullable = true)\n |-- 2015_median_sales_price: float (nullable = true)\n\n"
     ]
    }
   ],
   "source": [
    "#se hace el casteo o cambio de tipo de datos\n",
    "\n",
    "dfejemplo02 = dfejemplo01.withColumn(\"2014_rank\", col(\"2014_rank\").cast(IntegerType()))\\\n",
    "    .withColumn(\"2014_Population_estimate\", col(\"2014_Population_estimate\").cast(IntegerType()))\\\n",
    "    .withColumn(\"2015_median_sales_price\", col(\"2015_median_sales_price\").cast(FloatType()))\n",
    "\n",
    "dfejemplo02.printSchema()\n",
    "    \n"
   ]
  },
  {
   "cell_type": "code",
   "execution_count": 0,
   "metadata": {
    "application/vnd.databricks.v1+cell": {
     "cellMetadata": {
      "byteLimit": 2048000,
      "rowLimit": 10000
     },
     "inputWidgets": {},
     "nuid": "1bbb9d5b-21f6-42b7-93a3-78a48c141e98",
     "showTitle": false,
     "title": ""
    }
   },
   "outputs": [
    {
     "output_type": "display_data",
     "data": {
      "text/html": [
       "<style scoped>\n",
       "  .table-result-container {\n",
       "    max-height: 300px;\n",
       "    overflow: auto;\n",
       "  }\n",
       "  table, th, td {\n",
       "    border: 1px solid black;\n",
       "    border-collapse: collapse;\n",
       "  }\n",
       "  th, td {\n",
       "    padding: 5px;\n",
       "  }\n",
       "  th {\n",
       "    text-align: left;\n",
       "  }\n",
       "</style><div class='table-result-container'><table class='table-result'><thead style='background-color: white'><tr><th>summary</th><th>2014_rank</th><th>City</th><th>State</th><th>State_Code</th><th>2014_Population_estimate</th><th>2015_median_sales_price</th></tr></thead><tbody><tr><td>count</td><td>294</td><td>294</td><td>294</td><td>294</td><td>293</td><td>109</td></tr><tr><td>mean</td><td>147.5</td><td>null</td><td>null</td><td>null</td><td>307284.89761092153</td><td>211.26605476589378</td></tr><tr><td>stddev</td><td>85.01470461043782</td><td>null</td><td>null</td><td>null</td><td>603487.8272175139</td><td>134.01724508539056</td></tr><tr><td>min</td><td>1</td><td>Abilene</td><td>Alabama</td><td>AK</td><td>101408</td><td>78.6</td></tr><tr><td>max</td><td>294</td><td>Yonkers</td><td>Wisconsin</td><td>WI</td><td>8491079</td><td>900.0</td></tr></tbody></table></div>"
      ]
     },
     "metadata": {
      "application/vnd.databricks.v1+output": {
       "addedWidgets": {},
       "aggData": [],
       "aggError": "",
       "aggOverflow": false,
       "aggSchema": [],
       "aggSeriesLimitReached": false,
       "aggType": "",
       "arguments": {},
       "columnCustomDisplayInfos": {},
       "data": [
        [
         "count",
         "294",
         "294",
         "294",
         "294",
         "293",
         "109"
        ],
        [
         "mean",
         "147.5",
         null,
         null,
         null,
         "307284.89761092153",
         "211.26605476589378"
        ],
        [
         "stddev",
         "85.01470461043782",
         null,
         null,
         null,
         "603487.8272175139",
         "134.01724508539056"
        ],
        [
         "min",
         "1",
         "Abilene",
         "Alabama",
         "AK",
         "101408",
         "78.6"
        ],
        [
         "max",
         "294",
         "Yonkers",
         "Wisconsin",
         "WI",
         "8491079",
         "900.0"
        ]
       ],
       "datasetInfos": [],
       "dbfsResultPath": null,
       "isJsonSchema": true,
       "metadata": {},
       "overflow": false,
       "plotOptions": {
        "customPlotOptions": {},
        "displayType": "table",
        "pivotAggregation": null,
        "pivotColumns": null,
        "xColumns": null,
        "yColumns": null
       },
       "removedWidgets": [],
       "schema": [
        {
         "metadata": "{}",
         "name": "summary",
         "type": "\"string\""
        },
        {
         "metadata": "{}",
         "name": "2014_rank",
         "type": "\"string\""
        },
        {
         "metadata": "{}",
         "name": "City",
         "type": "\"string\""
        },
        {
         "metadata": "{}",
         "name": "State",
         "type": "\"string\""
        },
        {
         "metadata": "{}",
         "name": "State_Code",
         "type": "\"string\""
        },
        {
         "metadata": "{}",
         "name": "2014_Population_estimate",
         "type": "\"string\""
        },
        {
         "metadata": "{}",
         "name": "2015_median_sales_price",
         "type": "\"string\""
        }
       ],
       "type": "table"
      }
     },
     "output_type": "display_data"
    }
   ],
   "source": [
    "## Se revisa de nuevo el estadístico\n",
    "\n",
    "display(dfejemplo02.describe())"
   ]
  },
  {
   "cell_type": "markdown",
   "metadata": {
    "application/vnd.databricks.v1+cell": {
     "cellMetadata": {
      "byteLimit": 2048000,
      "rowLimit": 10000
     },
     "inputWidgets": {},
     "nuid": "2777ba5b-11de-4a74-a3fa-28d8bfed9754",
     "showTitle": false,
     "title": ""
    }
   },
   "source": [
    "\n",
    "### Vista de datos\n",
    "\n",
    "El comando **createOrReplaceTempView** crea una vista temporal usando un SparkDataframe en la sesión **Spark**. Éste permite hacer consultas *sql* sobre el objeto."
   ]
  },
  {
   "cell_type": "code",
   "execution_count": 0,
   "metadata": {
    "application/vnd.databricks.v1+cell": {
     "cellMetadata": {
      "byteLimit": 2048000,
      "rowLimit": 10000
     },
     "inputWidgets": {},
     "nuid": "07ec7e97-f2b9-4901-8d20-241cee3ea522",
     "showTitle": false,
     "title": ""
    }
   },
   "outputs": [],
   "source": [
    "## Se hace una vista temporal\n",
    "\n",
    "dfejemplo02.createOrReplaceTempView(\"date_geo\")"
   ]
  },
  {
   "cell_type": "markdown",
   "metadata": {
    "application/vnd.databricks.v1+cell": {
     "cellMetadata": {
      "byteLimit": 2048000,
      "rowLimit": 10000
     },
     "inputWidgets": {},
     "nuid": "ee0b55cf-0c0a-4cc5-8e6d-f6beab6bc654",
     "showTitle": false,
     "title": ""
    }
   },
   "source": [
    "\n",
    "  - Con **%sql** se crea una instruccion \"mágica\" para hacer consultas usando sql, es importante recalcar que debe colocarse al principio del codigo, ya que si no se coloca, puede no leer la instruccion.\n",
    "  - Tambien se puede buscar en la parte superior derecha de la celda, la opcion de lenguaje.\n",
    "  - Se puede hacer consultas SQL sobre el objeto de vista temporal.\n"
   ]
  },
  {
   "cell_type": "code",
   "execution_count": 0,
   "metadata": {
    "application/vnd.databricks.v1+cell": {
     "cellMetadata": {
      "byteLimit": 2048000,
      "implicitDf": true,
      "rowLimit": 10000
     },
     "inputWidgets": {},
     "nuid": "d5251e70-835c-418b-b016-72f5e751dcf5",
     "showTitle": false,
     "title": ""
    }
   },
   "outputs": [
    {
     "output_type": "display_data",
     "data": {
      "text/html": [
       "<style scoped>\n",
       "  .table-result-container {\n",
       "    max-height: 300px;\n",
       "    overflow: auto;\n",
       "  }\n",
       "  table, th, td {\n",
       "    border: 1px solid black;\n",
       "    border-collapse: collapse;\n",
       "  }\n",
       "  th, td {\n",
       "    padding: 5px;\n",
       "  }\n",
       "  th {\n",
       "    text-align: left;\n",
       "  }\n",
       "</style><div class='table-result-container'><table class='table-result'><thead style='background-color: white'><tr><th>State_Code</th><th>2015_median_sales_price</th></tr></thead><tbody><tr><td>AL</td><td>162.9</td></tr><tr><td>AL</td><td>157.7</td></tr><tr><td>AL</td><td>122.5</td></tr><tr><td>AL</td><td>129.0</td></tr><tr><td>AK</td><td>null</td></tr><tr><td>AZ</td><td>null</td></tr><tr><td>AZ</td><td>null</td></tr><tr><td>AZ</td><td>null</td></tr><tr><td>AZ</td><td>null</td></tr><tr><td>AZ</td><td>null</td></tr></tbody></table></div>"
      ]
     },
     "metadata": {
      "application/vnd.databricks.v1+output": {
       "addedWidgets": {},
       "aggData": [],
       "aggError": "",
       "aggOverflow": false,
       "aggSchema": [],
       "aggSeriesLimitReached": false,
       "aggType": "",
       "arguments": {},
       "columnCustomDisplayInfos": {},
       "data": [
        [
         "AL",
         162.9
        ],
        [
         "AL",
         157.7
        ],
        [
         "AL",
         122.5
        ],
        [
         "AL",
         129.0
        ],
        [
         "AK",
         null
        ],
        [
         "AZ",
         null
        ],
        [
         "AZ",
         null
        ],
        [
         "AZ",
         null
        ],
        [
         "AZ",
         null
        ],
        [
         "AZ",
         null
        ]
       ],
       "datasetInfos": [],
       "dbfsResultPath": null,
       "isJsonSchema": true,
       "metadata": {
        "dataframeName": "_sqldf",
        "executionCount": 21
       },
       "overflow": false,
       "plotOptions": {
        "customPlotOptions": {},
        "displayType": "table",
        "pivotAggregation": null,
        "pivotColumns": null,
        "xColumns": null,
        "yColumns": null
       },
       "removedWidgets": [],
       "schema": [
        {
         "metadata": "{}",
         "name": "State_Code",
         "type": "\"string\""
        },
        {
         "metadata": "{}",
         "name": "2015_median_sales_price",
         "type": "\"float\""
        }
       ],
       "type": "table"
      }
     },
     "output_type": "display_data"
    }
   ],
   "source": [
    "%sql\n",
    "\n",
    "SELECT `State_Code`, `2015_median_sales_price` \n",
    "FROM date_geo\n",
    "LIMIT 10"
   ]
  },
  {
   "cell_type": "code",
   "execution_count": 0,
   "metadata": {
    "application/vnd.databricks.v1+cell": {
     "cellMetadata": {
      "byteLimit": 2048000,
      "rowLimit": 10000
     },
     "inputWidgets": {},
     "nuid": "35bd7eff-01c3-4b70-b2b4-e2fa81e07096",
     "showTitle": false,
     "title": ""
    }
   },
   "outputs": [],
   "source": []
  }
 ],
 "metadata": {
  "application/vnd.databricks.v1+notebook": {
   "dashboards": [],
   "environmentMetadata": null,
   "language": "python",
   "notebookMetadata": {
    "mostRecentlyExecutedCommandWithImplicitDF": {
     "commandId": 4053675153929175,
     "dataframes": [
      "_sqldf"
     ]
    },
    "pythonIndentUnit": 4
   },
   "notebookName": "PrimerPySpark_Gonzalez",
   "widgets": {}
  }
 },
 "nbformat": 4,
 "nbformat_minor": 0
}
